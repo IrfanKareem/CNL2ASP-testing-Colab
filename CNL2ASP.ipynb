{
  "nbformat": 4,
  "nbformat_minor": 0,
  "metadata": {
    "colab": {
      "provenance": [],
      "collapsed_sections": []
    },
    "kernelspec": {
      "name": "python3",
      "display_name": "Python 3"
    },
    "language_info": {
      "name": "python"
    }
  },
  "cells": [
    {
      "cell_type": "markdown",
      "source": [
        " **Create the Directory**"
      ],
      "metadata": {
        "id": "yRoQsDv_Ydpj"
      }
    },
    {
      "cell_type": "code",
      "execution_count": null,
      "metadata": {
        "id": "0G07IhxN_4kT",
        "colab": {
          "base_uri": "https://localhost:8080/"
        },
        "outputId": "b6b8225a-9fcd-4ef0-c213-af31a3fa71a8"
      },
      "outputs": [
        {
          "output_type": "stream",
          "name": "stdout",
          "text": [
            "mkdir: cannot create directory ‘cnl2asp’: File exists\n"
          ]
        }
      ],
      "source": [
        "mkdir cnl2asp"
      ]
    },
    {
      "cell_type": "markdown",
      "source": [
        "**connect the gdrive**"
      ],
      "metadata": {
        "id": "RMw-cBpCW61a"
      }
    },
    {
      "cell_type": "code",
      "source": [
        "from google.colab import drive\n",
        "drive.mount('/content/drive/')"
      ],
      "metadata": {
        "colab": {
          "base_uri": "https://localhost:8080/"
        },
        "id": "QG488AFc__oG",
        "outputId": "0d603290-5eef-4cda-8d18-7fdd1eb530ef"
      },
      "execution_count": 1,
      "outputs": [
        {
          "output_type": "stream",
          "name": "stdout",
          "text": [
            "Drive already mounted at /content/drive/; to attempt to forcibly remount, call drive.mount(\"/content/drive/\", force_remount=True).\n"
          ]
        }
      ]
    },
    {
      "cell_type": "markdown",
      "source": [
        "**Install the required python version 3.10 **"
      ],
      "metadata": {
        "id": "RpooM9A4XV9R"
      }
    },
    {
      "cell_type": "code",
      "source": [
        "##to use Python 3.10 in Google Colab\n",
        "!sudo apt-get install python3.10\n",
        "!sudo update-alternatives --install /usr/bin/python3 python3 /usr/bin/python python3.10\n",
        "!sudo update-alternatives --set python3 /usr/bin/python python3.10\n"
      ],
      "metadata": {
        "colab": {
          "base_uri": "https://localhost:8080/"
        },
        "id": "Q2U5LiR1nkeM",
        "outputId": "65eec756-8c7c-4a12-b88c-9de8b0f82d0f"
      },
      "execution_count": 28,
      "outputs": [
        {
          "output_type": "stream",
          "name": "stdout",
          "text": [
            "Reading package lists... Done\n",
            "Building dependency tree       \n",
            "Reading state information... Done\n",
            "python3.10 is already the newest version (3.10.7-1+bionic1).\n",
            "The following package was automatically installed and is no longer required:\n",
            "  libnvidia-common-460\n",
            "Use 'sudo apt autoremove' to remove it.\n",
            "0 upgraded, 0 newly installed, 0 to remove and 20 not upgraded.\n",
            "update-alternatives: priority must be an integer\n",
            "\n",
            "Use 'update-alternatives --help' for program usage information.\n",
            "update-alternatives: error: unknown argument 'Python3.10'\n"
          ]
        }
      ]
    },
    {
      "cell_type": "markdown",
      "source": [],
      "metadata": {
        "id": "n-gzxG1CXVPB"
      }
    },
    {
      "cell_type": "code",
      "source": [
        "# !sudo apt-get install python3.10\n",
        "# !sudo update-alternatives --install /usr/bin/python3 python3 /usr/bin/python3.10 1\n",
        "# !sudo update-alternatives --set python3 /usr/bin/python3.10"
      ],
      "metadata": {
        "colab": {
          "base_uri": "https://localhost:8080/"
        },
        "id": "HJxnHF-IFoRa",
        "outputId": "1c600868-ec2a-4c53-b88a-22492dec399c"
      },
      "execution_count": 36,
      "outputs": [
        {
          "output_type": "stream",
          "name": "stdout",
          "text": [
            "Reading package lists... Done\n",
            "Building dependency tree       \n",
            "Reading state information... Done\n",
            "python3.10 is already the newest version (3.10.7-1+bionic1).\n",
            "The following package was automatically installed and is no longer required:\n",
            "  libnvidia-common-460\n",
            "Use 'sudo apt autoremove' to remove it.\n",
            "0 upgraded, 0 newly installed, 0 to remove and 20 not upgraded.\n",
            "update-alternatives: using /usr/bin/python3.10 to provide /usr/bin/python3 (python3) in manual mode\n"
          ]
        }
      ]
    },
    {
      "cell_type": "code",
      "source": [
        "#command to set python verson in colab\n",
        "!sudo update-alternatives --config python3"
      ],
      "metadata": {
        "colab": {
          "base_uri": "https://localhost:8080/"
        },
        "id": "fKxRZxIx31nd",
        "outputId": "f60797bd-ddfe-4d95-de5b-d15037d8db03"
      },
      "execution_count": 37,
      "outputs": [
        {
          "output_type": "stream",
          "name": "stdout",
          "text": [
            "There are 3 choices for the alternative python3 (providing /usr/bin/python3).\n",
            "\n",
            "  Selection    Path                 Priority   Status\n",
            "------------------------------------------------------------\n",
            "  0            /usr/bin/python3.7    2         auto mode\n",
            "* 1            /usr/bin/python3.10   1         manual mode\n",
            "  2            /usr/bin/python3.6    1         manual mode\n",
            "  3            /usr/bin/python3.7    2         manual mode\n",
            "\n",
            "Press <enter> to keep the current choice[*], or type selection number: 1\n"
          ]
        }
      ]
    },
    {
      "cell_type": "code",
      "source": [
        "#Check Python Version\n",
        "!python --version "
      ],
      "metadata": {
        "id": "YLDajQVUYNyr"
      },
      "execution_count": null,
      "outputs": []
    },
    {
      "cell_type": "code",
      "source": [
        "#Change the path testcnl\n",
        "cd /content/drive/MyDrive/Colab Notebooks/Test CNL"
      ],
      "metadata": {
        "colab": {
          "base_uri": "https://localhost:8080/"
        },
        "id": "73Uf34IUAU_j",
        "outputId": "808c7bbe-52f2-4666-83fa-4176eb1b475d"
      },
      "execution_count": 38,
      "outputs": [
        {
          "output_type": "stream",
          "name": "stdout",
          "text": [
            "/content/drive/MyDrive/Colab Notebooks/Test CNL\n"
          ]
        }
      ]
    },
    {
      "cell_type": "markdown",
      "source": [
        "**Clone the githubrepository CNL2ASP**"
      ],
      "metadata": {
        "id": "UGFPoLItZN2U"
      }
    },
    {
      "cell_type": "code",
      "source": [
        "! git clone https://github.com/dodaro/cnl2asp"
      ],
      "metadata": {
        "colab": {
          "base_uri": "https://localhost:8080/"
        },
        "id": "hp709fniAlXi",
        "outputId": "0669b58e-2150-4c30-b602-c36f5ce23784"
      },
      "execution_count": 39,
      "outputs": [
        {
          "output_type": "stream",
          "name": "stdout",
          "text": [
            "fatal: destination path 'cnl2asp' already exists and is not an empty directory.\n"
          ]
        }
      ]
    },
    {
      "cell_type": "markdown",
      "source": [
        "**Change path to src files**"
      ],
      "metadata": {
        "id": "c_nXbcGkZaja"
      }
    },
    {
      "cell_type": "code",
      "source": [
        "cd /content/drive/MyDrive/Colab Notebooks/Test CNL/cnl2asp/src\n"
      ],
      "metadata": {
        "colab": {
          "base_uri": "https://localhost:8080/"
        },
        "id": "VxS5nQ2OAxg_",
        "outputId": "4be7ca21-8196-4475-c04e-a1b18b6e32df"
      },
      "execution_count": 40,
      "outputs": [
        {
          "output_type": "stream",
          "name": "stdout",
          "text": [
            "/content/drive/MyDrive/Colab Notebooks/Test CNL/cnl2asp/src\n"
          ]
        }
      ]
    },
    {
      "cell_type": "markdown",
      "source": [
        "**Remove the pip (inorder to re-install)**"
      ],
      "metadata": {
        "id": "uWWD3HfrZp-s"
      }
    },
    {
      "cell_type": "code",
      "source": [
        "# !sudo apt-get -y install python3-pip\n",
        "!sudo apt remove python-pip python3-pip   #remove the pip\n",
        "# !sudo apt install python-pip python3-pip"
      ],
      "metadata": {
        "id": "v1Ja2ccJ_qga",
        "colab": {
          "base_uri": "https://localhost:8080/"
        },
        "outputId": "7203e29b-8781-4ef7-9262-44511bbd6296"
      },
      "execution_count": 78,
      "outputs": [
        {
          "output_type": "stream",
          "name": "stdout",
          "text": [
            "Reading package lists... Done\n",
            "Building dependency tree       \n",
            "Reading state information... Done\n",
            "The following packages were automatically installed and are no longer required:\n",
            "  libnvidia-common-460 libpython-all-dev python-all python-all-dev\n",
            "  python-asn1crypto python-cffi-backend python-crypto python-cryptography\n",
            "  python-dbus python-enum34 python-gi python-idna python-ipaddress\n",
            "  python-keyring python-keyrings.alt python-pip-whl python-pkg-resources\n",
            "  python-secretstorage python-setuptools python-six python-wheel python-xdg\n",
            "  python3-asn1crypto python3-cffi-backend python3-crypto python3-cryptography\n",
            "  python3-idna python3-keyring python3-keyrings.alt python3-pkg-resources\n",
            "  python3-secretstorage python3-setuptools python3-six python3-wheel\n",
            "  python3-xdg\n",
            "Use 'sudo apt autoremove' to remove them.\n",
            "The following packages will be REMOVED:\n",
            "  python-pip python3-pip\n",
            "0 upgraded, 0 newly installed, 2 to remove and 20 not upgraded.\n",
            "After this operation, 1,274 kB disk space will be freed.\n",
            "(Reading database ... 159723 files and directories currently installed.)\n",
            "Removing python-pip (9.0.1-2.3~ubuntu1.18.04.5) ...\n",
            "Removing python3-pip (9.0.1-2.3~ubuntu1.18.04.5) ...\n",
            "Processing triggers for man-db (2.8.3-2ubuntu0.1) ...\n"
          ]
        }
      ]
    },
    {
      "cell_type": "markdown",
      "source": [
        "**Install the pip**"
      ],
      "metadata": {
        "id": "Wyt0-Oi5Z4CF"
      }
    },
    {
      "cell_type": "code",
      "source": [
        "!sudo apt-get -y install python3-pip"
      ],
      "metadata": {
        "colab": {
          "base_uri": "https://localhost:8080/"
        },
        "id": "2uFoNpb3QEOL",
        "outputId": "d32759e7-71b2-44bd-d5ee-8c3c5a606d4b"
      },
      "execution_count": 79,
      "outputs": [
        {
          "output_type": "stream",
          "name": "stdout",
          "text": [
            "Reading package lists... Done\n",
            "Building dependency tree       \n",
            "Reading state information... Done\n",
            "The following packages were automatically installed and are no longer required:\n",
            "  libnvidia-common-460 libpython-all-dev python-all python-all-dev\n",
            "  python-asn1crypto python-cffi-backend python-crypto python-cryptography\n",
            "  python-dbus python-enum34 python-gi python-idna python-ipaddress\n",
            "  python-keyring python-keyrings.alt python-pkg-resources python-secretstorage\n",
            "  python-setuptools python-six python-wheel python-xdg\n",
            "Use 'sudo apt autoremove' to remove them.\n",
            "The following NEW packages will be installed:\n",
            "  python3-pip\n",
            "0 upgraded, 1 newly installed, 0 to remove and 20 not upgraded.\n",
            "Need to get 114 kB of archives.\n",
            "After this operation, 601 kB of additional disk space will be used.\n",
            "Get:1 http://archive.ubuntu.com/ubuntu bionic-updates/universe amd64 python3-pip all 9.0.1-2.3~ubuntu1.18.04.5 [114 kB]\n",
            "Fetched 114 kB in 0s (1,597 kB/s)\n",
            "debconf: unable to initialize frontend: Dialog\n",
            "debconf: (No usable dialog-like program is installed, so the dialog based frontend cannot be used. at /usr/share/perl5/Debconf/FrontEnd/Dialog.pm line 76, <> line 1.)\n",
            "debconf: falling back to frontend: Readline\n",
            "debconf: unable to initialize frontend: Readline\n",
            "debconf: (This frontend requires a controlling tty.)\n",
            "debconf: falling back to frontend: Teletype\n",
            "dpkg-preconfigure: unable to re-open stdin: \n",
            "Selecting previously unselected package python3-pip.\n",
            "(Reading database ... 159539 files and directories currently installed.)\n",
            "Preparing to unpack .../python3-pip_9.0.1-2.3~ubuntu1.18.04.5_all.deb ...\n",
            "Unpacking python3-pip (9.0.1-2.3~ubuntu1.18.04.5) ...\n",
            "Setting up python3-pip (9.0.1-2.3~ubuntu1.18.04.5) ...\n",
            "/usr/lib/python3.10/subprocess.py:953: RuntimeWarning: line buffering (buffering=1) isn't supported in binary mode, the default buffer size will be used\n",
            "  self.stdin = io.open(p2cwrite, 'wb', bufsize)\n",
            "Processing triggers for man-db (2.8.3-2ubuntu0.1) ...\n"
          ]
        }
      ]
    },
    {
      "cell_type": "markdown",
      "source": [
        "**Some other ways to install pip and resolve errors(not worked)**"
      ],
      "metadata": {
        "id": "gHtgQ-_HaKe-"
      }
    },
    {
      "cell_type": "code",
      "source": [
        "# from collections.abc import MutableMapping\n",
        "# !python -m pip install --upgrade pip\n",
        "# !pip install --upgrade pip\n",
        "# !pip install --upgrade wheel\n",
        "# !pip install --upgrade setuptools\n",
        "# !pip install --upgrade requests\n",
        "# from collections.abc import MutableMapping\n",
        "# !sudo apt-get install python3.10 lark"
      ],
      "metadata": {
        "colab": {
          "base_uri": "https://localhost:8080/"
        },
        "id": "W87oaRsj_SDo",
        "outputId": "2d492636-09a0-4d62-d593-de10e6c7c1bf"
      },
      "execution_count": 82,
      "outputs": [
        {
          "output_type": "stream",
          "name": "stdout",
          "text": [
            "Traceback (most recent call last):\n",
            "  File \"/usr/lib/python3.10/runpy.py\", line 187, in _run_module_as_main\n",
            "    mod_name, mod_spec, code = _get_module_details(mod_name, _Error)\n",
            "  File \"/usr/lib/python3.10/runpy.py\", line 146, in _get_module_details\n",
            "    return _get_module_details(pkg_main_name, error)\n",
            "  File \"/usr/lib/python3.10/runpy.py\", line 110, in _get_module_details\n",
            "    __import__(pkg_name)\n",
            "  File \"/usr/lib/python3/dist-packages/pip/__init__.py\", line 22, in <module>\n",
            "    from pip._vendor.requests.packages.urllib3.exceptions import DependencyWarning\n",
            "  File \"/usr/lib/python3/dist-packages/pip/_vendor/__init__.py\", line 73, in <module>\n",
            "    vendored(\"pkg_resources\")\n",
            "  File \"/usr/lib/python3/dist-packages/pip/_vendor/__init__.py\", line 33, in vendored\n",
            "    __import__(modulename, globals(), locals(), level=0)\n",
            "  File \"/usr/share/python-wheels/pkg_resources-0.0.0-py2.py3-none-any.whl/pkg_resources/__init__.py\", line 77, in <module>\n",
            "  File \"/usr/share/python-wheels/pkg_resources-0.0.0-py2.py3-none-any.whl/pkg_resources/_vendor/packaging/requirements.py\", line 9, in <module>\n",
            "  File \"<frozen importlib._bootstrap>\", line 1027, in _find_and_load\n",
            "  File \"<frozen importlib._bootstrap>\", line 1006, in _find_and_load_unlocked\n",
            "  File \"<frozen importlib._bootstrap>\", line 672, in _load_unlocked\n",
            "  File \"<frozen importlib._bootstrap>\", line 632, in _load_backward_compatible\n",
            "  File \"/usr/share/python-wheels/pkg_resources-0.0.0-py2.py3-none-any.whl/pkg_resources/extern/__init__.py\", line 43, in load_module\n",
            "  File \"/usr/share/python-wheels/pkg_resources-0.0.0-py2.py3-none-any.whl/pkg_resources/_vendor/pyparsing.py\", line 943, in <module>\n",
            "AttributeError: module 'collections' has no attribute 'MutableMapping'\n"
          ]
        }
      ]
    },
    {
      "cell_type": "code",
      "source": [
        "import pip"
      ],
      "metadata": {
        "id": "xFyCvyStRasx"
      },
      "execution_count": 86,
      "outputs": []
    },
    {
      "cell_type": "markdown",
      "source": [
        "**pip install commands worked in this case**"
      ],
      "metadata": {
        "id": "8xJwgjxsacSe"
      }
    },
    {
      "cell_type": "code",
      "source": [
        "# !pip3 install PACKAGE\n",
        "!curl https://bootstrap.pypa.io/get-pip.py -o get-pip.py\n",
        "!python3 get-pip.py --force-reinstall"
      ],
      "metadata": {
        "colab": {
          "base_uri": "https://localhost:8080/"
        },
        "id": "Pu0qOHmCRmg9",
        "outputId": "9aebe8e5-7faa-42de-85be-3bf32732c225"
      },
      "execution_count": 90,
      "outputs": [
        {
          "output_type": "stream",
          "name": "stdout",
          "text": [
            "  % Total    % Received % Xferd  Average Speed   Time    Time     Time  Current\n",
            "                                 Dload  Upload   Total   Spent    Left  Speed\n",
            "\r  0     0    0     0    0     0      0      0 --:--:-- --:--:-- --:--:--     0\r100 2500k  100 2500k    0     0  41.3M      0 --:--:-- --:--:-- --:--:-- 41.3M\n",
            "Keyring is skipped due to an exception: module 'collections' has no attribute 'MutableMapping'\n",
            "Looking in indexes: https://pypi.org/simple, https://us-python.pkg.dev/colab-wheels/public/simple/\n",
            "Collecting pip\n",
            "  Downloading pip-22.2.2-py3-none-any.whl (2.0 MB)\n",
            "\u001b[2K     \u001b[90m━━━━━━━━━━━━━━━━━━━━━━━━━━━━━━━━━━━━━━━━\u001b[0m \u001b[32m2.0/2.0 MB\u001b[0m \u001b[31m77.9 MB/s\u001b[0m eta \u001b[36m0:00:00\u001b[0m\n",
            "\u001b[?25hInstalling collected packages: pip\n",
            "  Attempting uninstall: pip\n",
            "    Found existing installation: pip 9.0.1\n",
            "    Uninstalling pip-9.0.1:\n",
            "      Successfully uninstalled pip-9.0.1\n",
            "Successfully installed pip-22.2.2\n",
            "\u001b[33mWARNING: Running pip as the 'root' user can result in broken permissions and conflicting behaviour with the system package manager. It is recommended to use a virtual environment instead: https://pip.pypa.io/warnings/venv\u001b[0m\u001b[33m\n",
            "\u001b[0m"
          ]
        }
      ]
    },
    {
      "cell_type": "markdown",
      "source": [
        "**Install lark required dependancy**"
      ],
      "metadata": {
        "id": "KB9SOvS5ap32"
      }
    },
    {
      "cell_type": "code",
      "source": [
        "# !sudo pip3 uninstall lark\n",
        "!pip install lark\n",
        "# !python3 -m pip install --user --upgrade pip"
      ],
      "metadata": {
        "colab": {
          "base_uri": "https://localhost:8080/"
        },
        "id": "0imuC8XSSxaj",
        "outputId": "84d3a790-e6a5-4358-c1a1-f5460f0c6b1c"
      },
      "execution_count": 91,
      "outputs": [
        {
          "output_type": "stream",
          "name": "stdout",
          "text": [
            "Keyring is skipped due to an exception: module 'collections' has no attribute 'MutableMapping'\n",
            "Looking in indexes: https://pypi.org/simple, https://us-python.pkg.dev/colab-wheels/public/simple/\n",
            "Collecting lark\n",
            "  Using cached lark-1.1.2-py2.py3-none-any.whl (104 kB)\n",
            "Installing collected packages: lark\n",
            "Successfully installed lark-1.1.2\n",
            "\u001b[33mWARNING: Running pip as the 'root' user can result in broken permissions and conflicting behaviour with the system package manager. It is recommended to use a virtual environment instead: https://pip.pypa.io/warnings/venv\u001b[0m\u001b[33m\n",
            "\u001b[0m"
          ]
        }
      ]
    },
    {
      "cell_type": "markdown",
      "source": [
        "**CNL2ASP testing examples**"
      ],
      "metadata": {
        "id": "SVtEhMR3a01F"
      }
    },
    {
      "cell_type": "code",
      "source": [
        "!python main.py examples/HamPath HamPath.lp"
      ],
      "metadata": {
        "id": "Ku2hXN9pA6XE",
        "colab": {
          "base_uri": "https://localhost:8080/"
        },
        "outputId": "5531892e-867d-4246-b28a-a0a93d205ce0"
      },
      "execution_count": 92,
      "outputs": [
        {
          "output_type": "stream",
          "name": "stdout",
          "text": [
            "Compilation completed.\n"
          ]
        }
      ]
    },
    {
      "cell_type": "code",
      "source": [
        "!python main.py examples/3Col 3Col.lp"
      ],
      "metadata": {
        "colab": {
          "base_uri": "https://localhost:8080/"
        },
        "id": "Hm45F5bbTNsL",
        "outputId": "2d7fe32d-3fde-4ea6-98f2-ef69daa56f4d"
      },
      "execution_count": 94,
      "outputs": [
        {
          "output_type": "stream",
          "name": "stdout",
          "text": [
            "Compilation completed.\n"
          ]
        }
      ]
    },
    {
      "cell_type": "code",
      "source": [
        "!python main.py examples/10Nurses 10Nurses.lp"
      ],
      "metadata": {
        "colab": {
          "base_uri": "https://localhost:8080/"
        },
        "id": "wHX5ER3WWep7",
        "outputId": "22b9d276-a799-4ba2-e8c6-cfe385d23962"
      },
      "execution_count": 95,
      "outputs": [
        {
          "output_type": "stream",
          "name": "stdout",
          "text": [
            "Compilation completed.\n"
          ]
        }
      ]
    },
    {
      "cell_type": "code",
      "source": [
        "!python --version"
      ],
      "metadata": {
        "colab": {
          "base_uri": "https://localhost:8080/"
        },
        "id": "hb6nRY2qmrUW",
        "outputId": "5e701fdb-d752-4c5d-fc0a-b00d1001f3c4"
      },
      "execution_count": 93,
      "outputs": [
        {
          "output_type": "stream",
          "name": "stdout",
          "text": [
            "Python 3.10.7\n"
          ]
        }
      ]
    }
  ]
}